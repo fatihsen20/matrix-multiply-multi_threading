{
 "cells": [
  {
   "cell_type": "code",
   "execution_count": 63,
   "metadata": {},
   "outputs": [],
   "source": [
    "import numpy as np\n",
    "import threading\n",
    "import time\n",
    "import pickle\n",
    "import matplotlib.pyplot as plt\n",
    "import pandas as pd"
   ]
  },
  {
   "cell_type": "code",
   "execution_count": 24,
   "metadata": {},
   "outputs": [],
   "source": [
    "def pre_process(shape:int):\n",
    "    matrix_shape = (shape, shape)\n",
    "    A = np.random.randint(0, 100, matrix_shape)\n",
    "    B = np.random.randint(0, 100, matrix_shape)\n",
    "    return A, B"
   ]
  },
  {
   "cell_type": "code",
   "execution_count": 25,
   "metadata": {},
   "outputs": [],
   "source": [
    "matrix_mult_for_np = lambda A, B: A @ B"
   ]
  },
  {
   "cell_type": "code",
   "execution_count": 26,
   "metadata": {},
   "outputs": [],
   "source": [
    "def matrix_mult_single_thread(A, B):\n",
    "    C = np.zeros((A.shape[0], B.shape[1]), dtype=np.int32)\n",
    "    for i in range(A.shape[0]):\n",
    "        for j in range(B.shape[1]):\n",
    "            for k in range(A.shape[1]):\n",
    "                C[i,j] += A[i,k] * B[k,j]\n",
    "    return C"
   ]
  },
  {
   "cell_type": "code",
   "execution_count": 27,
   "metadata": {},
   "outputs": [],
   "source": [
    "def matrix_mult_multi_thread(A, B):\n",
    "    C = np.zeros((A.shape[0], B.shape[1]), dtype=np.int32)\n",
    "    threading_list = []\n",
    "\n",
    "    def thread_func(row):\n",
    "        for j in range(B.shape[1]):\n",
    "            for k in range(A.shape[1]):\n",
    "                C[row,j] += A[row,k] * B[k,j]\n",
    "\n",
    "    for row in range(A.shape[0]):\n",
    "        t = threading.Thread(target=thread_func, args=(row,))\n",
    "        t.start()\n",
    "        threading_list.append(t)\n",
    "        \n",
    "    for t in threading_list:\n",
    "        t.join()\n",
    "        \n",
    "    return C"
   ]
  },
  {
   "cell_type": "code",
   "execution_count": 28,
   "metadata": {},
   "outputs": [
    {
     "name": "stdout",
     "output_type": "stream",
     "text": [
      "A Matrix\n",
      "[[58 60 99 97 53]\n",
      " [ 4  0  3 44 92]\n",
      " [ 5 64 33 10 26]\n",
      " [87 16 97 26 30]\n",
      " [66 60 52 32 94]]\n",
      "==========\n",
      "B Matrix\n",
      "[[27 52 68 96 76]\n",
      " [84 23 88 68 42]\n",
      " [ 2 55 19 61 32]\n",
      " [21 75  7 11 84]\n",
      " [71 95 42 54 33]]\n"
     ]
    }
   ],
   "source": [
    "A, B = pre_process(5)\n",
    "print(\"A Matrix\")\n",
    "print(A)\n",
    "print(10*\"=\")\n",
    "print(\"B Matrix\")\n",
    "print(B)"
   ]
  },
  {
   "cell_type": "code",
   "execution_count": 29,
   "metadata": {},
   "outputs": [
    {
     "data": {
      "text/plain": [
       "array([[12604, 22151, 14010, 19616, 19993],\n",
       "       [ 7570, 12413,  4501,  6019,  7132],\n",
       "       [ 7633,  6767,  7761,  8359,  5822],\n",
       "       [ 6563, 15027, 10609, 17263, 13562],\n",
       "       [14272, 19002, 14928, 19016, 14990]])"
      ]
     },
     "execution_count": 29,
     "metadata": {},
     "output_type": "execute_result"
    }
   ],
   "source": [
    "matrix_mult_for_np(A, B)"
   ]
  },
  {
   "cell_type": "code",
   "execution_count": 30,
   "metadata": {},
   "outputs": [
    {
     "data": {
      "text/plain": [
       "array([[12604, 22151, 14010, 19616, 19993],\n",
       "       [ 7570, 12413,  4501,  6019,  7132],\n",
       "       [ 7633,  6767,  7761,  8359,  5822],\n",
       "       [ 6563, 15027, 10609, 17263, 13562],\n",
       "       [14272, 19002, 14928, 19016, 14990]])"
      ]
     },
     "execution_count": 30,
     "metadata": {},
     "output_type": "execute_result"
    }
   ],
   "source": [
    "matrix_mult_single_thread(A, B)"
   ]
  },
  {
   "cell_type": "code",
   "execution_count": 31,
   "metadata": {},
   "outputs": [
    {
     "data": {
      "text/plain": [
       "array([[12604, 22151, 14010, 19616, 19993],\n",
       "       [ 7570, 12413,  4501,  6019,  7132],\n",
       "       [ 7633,  6767,  7761,  8359,  5822],\n",
       "       [ 6563, 15027, 10609, 17263, 13562],\n",
       "       [14272, 19002, 14928, 19016, 14990]])"
      ]
     },
     "execution_count": 31,
     "metadata": {},
     "output_type": "execute_result"
    }
   ],
   "source": [
    "matrix_mult_multi_thread(A, B)"
   ]
  },
  {
   "cell_type": "code",
   "execution_count": 32,
   "metadata": {},
   "outputs": [],
   "source": [
    "A, B = pre_process(200)"
   ]
  },
  {
   "cell_type": "code",
   "execution_count": 33,
   "metadata": {},
   "outputs": [
    {
     "name": "stdout",
     "output_type": "stream",
     "text": [
      "CPU times: total: 0 ns\n",
      "Wall time: 5.52 ms\n"
     ]
    }
   ],
   "source": [
    "%%time\n",
    "C = matrix_mult_for_np(A, B)"
   ]
  },
  {
   "cell_type": "code",
   "execution_count": 34,
   "metadata": {},
   "outputs": [
    {
     "name": "stdout",
     "output_type": "stream",
     "text": [
      "CPU times: total: 375 ms\n",
      "Wall time: 4.09 s\n"
     ]
    }
   ],
   "source": [
    "%%time\n",
    " C = matrix_mult_multi_thread(A, B)"
   ]
  },
  {
   "cell_type": "code",
   "execution_count": 35,
   "metadata": {},
   "outputs": [
    {
     "name": "stdout",
     "output_type": "stream",
     "text": [
      "CPU times: total: 3.33 s\n",
      "Wall time: 3.82 s\n"
     ]
    }
   ],
   "source": [
    "%%time\n",
    "C = matrix_mult_single_thread(A, B)"
   ]
  },
  {
   "cell_type": "code",
   "execution_count": 36,
   "metadata": {},
   "outputs": [],
   "source": [
    "def calculate_elapsed_time(A, B, func):\n",
    "    start = time.time()\n",
    "    func(A,B)\n",
    "    end = time.time()\n",
    "    return end - start"
   ]
  },
  {
   "cell_type": "code",
   "execution_count": 37,
   "metadata": {},
   "outputs": [],
   "source": [
    "result = {}"
   ]
  },
  {
   "cell_type": "code",
   "execution_count": 38,
   "metadata": {},
   "outputs": [
    {
     "name": "stdout",
     "output_type": "stream",
     "text": [
      "Matrix size: 50x50 | single thread: 0.061 | multi thread: 0.073\n",
      "Matrix size: 100x100 | single thread: 0.482 | multi thread: 0.513\n",
      "Matrix size: 150x150 | single thread: 1.601 | multi thread: 1.698\n",
      "Matrix size: 200x200 | single thread: 3.855 | multi thread: 3.988\n",
      "Matrix size: 250x250 | single thread: 7.385 | multi thread: 7.672\n",
      "Matrix size: 300x300 | single thread: 13.129 | multi thread: 13.313\n",
      "Matrix size: 350x350 | single thread: 20.327 | multi thread: 21.041\n",
      "Matrix size: 400x400 | single thread: 30.333 | multi thread: 31.396\n",
      "Matrix size: 450x450 | single thread: 43.184 | multi thread: 44.785\n",
      "Matrix size: 500x500 | single thread: 59.293 | multi thread: 61.603\n"
     ]
    }
   ],
   "source": [
    "for i in range(50, 501, 50):\n",
    "    A, B = pre_process(i)\n",
    "    single_thread_time = calculate_elapsed_time(A, B, matrix_mult_single_thread)\n",
    "    multi_thread_time = calculate_elapsed_time(A, B, matrix_mult_multi_thread)\n",
    "    result[f\"{i}x{i}\"] = [single_thread_time, multi_thread_time]\n",
    "    print(f\"Matrix size: {i}x{i} | single thread: {single_thread_time:.3f} | multi thread: {multi_thread_time:.3f}\")"
   ]
  },
  {
   "cell_type": "code",
   "execution_count": 39,
   "metadata": {},
   "outputs": [
    {
     "data": {
      "text/plain": [
       "{'50x50': [0.06145310401916504, 0.07293844223022461],\n",
       " '100x100': [0.4822709560394287, 0.5128941535949707],\n",
       " '150x150': [1.6010997295379639, 1.6979968547821045],\n",
       " '200x200': [3.855052947998047, 3.988065719604492],\n",
       " '250x250': [7.385160446166992, 7.672171354293823],\n",
       " '300x300': [13.128905773162842, 13.312986135482788],\n",
       " '350x350': [20.326743841171265, 21.040990591049194],\n",
       " '400x400': [30.333247661590576, 31.39557456970215],\n",
       " '450x450': [43.18406319618225, 44.78542399406433],\n",
       " '500x500': [59.29327940940857, 61.602596044540405]}"
      ]
     },
     "execution_count": 39,
     "metadata": {},
     "output_type": "execute_result"
    }
   ],
   "source": [
    "result"
   ]
  },
  {
   "cell_type": "code",
   "execution_count": 40,
   "metadata": {},
   "outputs": [],
   "source": [
    "with open(\"result.pkl\", \"wb\") as f:\n",
    "    pickle.dump(result, f)"
   ]
  }
 ],
 "metadata": {
  "kernelspec": {
   "display_name": "Python 3",
   "language": "python",
   "name": "python3"
  },
  "language_info": {
   "codemirror_mode": {
    "name": "ipython",
    "version": 3
   },
   "file_extension": ".py",
   "mimetype": "text/x-python",
   "name": "python",
   "nbconvert_exporter": "python",
   "pygments_lexer": "ipython3",
   "version": "3.10.9"
  },
  "orig_nbformat": 4
 },
 "nbformat": 4,
 "nbformat_minor": 2
}
